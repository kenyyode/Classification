{
 "cells": [
  {
   "cell_type": "code",
   "execution_count": 4,
   "metadata": {},
   "outputs": [
    {
     "data": {
      "text/plain": [
       "'You have 141 days left for your internship'"
      ]
     },
     "execution_count": 4,
     "metadata": {},
     "output_type": "execute_result"
    }
   ],
   "source": [
    "## on the side i want to calculate the number of days left for me for my internship \n",
    "\n",
    "from datetime import datetime, date\n",
    "\n",
    "def days_left_to_suffer(todays_date, enddate):\n",
    "\n",
    "    date_format = \"%Y-%m-%d\" ## this specifies a format for our date \n",
    "    todaydatetime = datetime.strptime(todays_date, date_format) ## this converts our date string inputs into date objects. \n",
    "    enddatetimedatetime = datetime.strptime(enddate, date_format) ## this converts our date string inputs into date objects.\n",
    "\n",
    "    remaining_days = todaydatetime - enddatetimedatetime ## now we find the difference between the two dates \n",
    "\n",
    "\n",
    "    return f\"You have {abs(remaining_days.days)} days left for your internship\" ## this uses an f-string to embed expression within strings, in this case since abs returns an absolute value, we are embedding it within our string. \n",
    "\n",
    "## Example usage \n",
    "today = \"2024-02-11\"\n",
    "enddate = \"2024-07-01\"\n",
    "\n",
    "days_left_to_suffer(today, enddate)"
   ]
  },
  {
   "cell_type": "code",
   "execution_count": 2,
   "metadata": {},
   "outputs": [],
   "source": [
    "## alternatively \n",
    "\n",
    "def days_between_dates(date1, date2):\n",
    "    # Convert the input strings to date objects\n",
    "    datetime1 = date.fromisoformat(date1)\n",
    "    datetime2 = date.fromisoformat(date2)\n",
    "\n",
    "    # Calculate the difference between the two dates\n",
    "    delta = datetime2 - datetime1\n",
    "\n",
    "    # Extract the number of days from the timedelta object\n",
    "    num_days = delta.days\n",
    "\n",
    "    return num_days\n"
   ]
  },
  {
   "cell_type": "code",
   "execution_count": 11,
   "metadata": {},
   "outputs": [
    {
     "data": {
      "text/plain": [
       "'EGA is 38 weeks 2 days today.'"
      ]
     },
     "execution_count": 11,
     "metadata": {},
     "output_type": "execute_result"
    }
   ],
   "source": [
    "## if i am going to apply this to create an EGA calculator \n",
    "\n",
    "def EGA(LMP):\n",
    "    #to create datetime objects \n",
    "\n",
    "    lmp = date.fromisoformat(LMP)\n",
    "    today = date.today()\n",
    "\n",
    "    EGA_in_days = (today - lmp).days\n",
    "\n",
    "    weeks = EGA_in_days // 7\n",
    "    days =  EGA_in_days % 7\n",
    "\n",
    "\n",
    "\n",
    "    return f\"EGA is {weeks} weeks {days} days today.\"\n",
    "\n",
    "Last_ = \"2023-05-19\"\n",
    "EGA(Last_)"
   ]
  }
 ],
 "metadata": {
  "kernelspec": {
   "display_name": "Python 3",
   "language": "python",
   "name": "python3"
  },
  "language_info": {
   "codemirror_mode": {
    "name": "ipython",
    "version": 3
   },
   "file_extension": ".py",
   "mimetype": "text/x-python",
   "name": "python",
   "nbconvert_exporter": "python",
   "pygments_lexer": "ipython3",
   "version": "3.11.5"
  }
 },
 "nbformat": 4,
 "nbformat_minor": 2
}
